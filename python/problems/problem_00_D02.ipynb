{
 "cells": [
  {
   "cell_type": "markdown",
   "metadata": {},
   "source": [
    "# 가상화폐 시세 판단하기"
   ]
  },
  {
   "cell_type": "markdown",
   "metadata": {},
   "source": [
    "> 최고가와 최저가의 차이를 변동폭으로 정의할 때 (시가 + 변동폭)이 최고가 보다 높을 경우 \"상승장\", 그렇지 않은 경우 \"하락장\" 문자열을 출력하라.\n",
    "\n",
    "|Key Name        |     Description|\n",
    "|---|---|\n",
    "|opeing_price    |최근 24시간 내 시작 거래금액|\n",
    "|closing_price   |최근 24시간 내 마지막 거래금액|\n",
    "|min_price       |최근 24시간 내 최저 거래금액|\n",
    "|max_price       |최근 24시간 내 최고 거래금액|"
   ]
  },
  {
   "cell_type": "code",
   "execution_count": 1,
   "metadata": {},
   "outputs": [
    {
     "name": "stdout",
     "output_type": "stream",
     "text": [
      "{'opening_price': '4270000', 'closing_price': '4330000', 'min_price': '4240000', 'max_price': '4379000', 'average_price': '4308742.9364', 'units_traded': '15801.5568765', 'volume_1day': '15801.5568765', 'volume_7day': '43048.60966475', 'buy_price': '4330000', 'sell_price': '4336000', '24H_fluctate': '60000', '24H_fluctate_rate': '1.40', 'date': '1546490378517'}\n"
     ]
    }
   ],
   "source": [
    "import requests\n",
    "btc = requests.get('https://api.bithumb.com/public/ticker/btc').json()['data']\n",
    "print(btc)"
   ]
  },
  {
   "cell_type": "code",
   "execution_count": 19,
   "metadata": {},
   "outputs": [
    {
     "name": "stdout",
     "output_type": "stream",
     "text": [
      "상승장\n"
     ]
    }
   ],
   "source": [
    "# 아래에 코드를 작성하세요.\n",
    "change = int(btc['max_price']) - int(btc['min_price'])\n",
    "if int(btc['max_price']) < int(btc['opening_price']) + change:\n",
    "    print('상승장')\n",
    "else:\n",
    "    print('하락장')"
   ]
  },
  {
   "cell_type": "markdown",
   "metadata": {},
   "source": [
    "## 모든 가상화폐 시세 판단하기\n",
    "\n",
    "\n",
    "> currrency dictionary에 담겨있는 모든 가상화폐 거래내역을 바탕으로 출력하라.\n",
    ">\n",
    "> 예외 처리에 유의하세요.\n",
    "\n",
    "\n",
    "\n",
    "```\n",
    "예시 출력)\n",
    "BTC 상승장\n",
    "ETH 상승장\n",
    "DASH 상승장\n",
    "LTC 하락장\n",
    "ETC 하락장\n",
    "XRP 상승장\n",
    "BCH 상승장\n",
    "...\n",
    "```\n"
   ]
  },
  {
   "cell_type": "code",
   "execution_count": 2,
   "metadata": {},
   "outputs": [
    {
     "name": "stdout",
     "output_type": "stream",
     "text": [
      "{'BTC': {'opening_price': '4267000', 'closing_price': '4331000', 'min_price': '4240000', 'max_price': '4379000', 'average_price': '4308752.5963', 'units_traded': '15801.0134765', 'volume_1day': '15801.0134765', 'volume_7day': '43048.60966475', 'buy_price': '4330000', 'sell_price': '4337000', '24H_fluctate': '64000', '24H_fluctate_rate': '1.49'}, 'ETH': {'opening_price': '157100', 'closing_price': '172600', 'min_price': '156600', 'max_price': '174000', 'average_price': '167846.1082', 'units_traded': '521183.08723263', 'volume_1day': '521183.08723263', 'volume_7day': '1548904.093861459513209628', 'buy_price': '172600', 'sell_price': '172700', '24H_fluctate': '15500', '24H_fluctate_rate': '9.86'}, 'DASH': {'opening_price': '89500', 'closing_price': '93500', 'min_price': '88000', 'max_price': '94800', 'average_price': '93105.7489', 'units_traded': '4480998.72743055', 'volume_1day': '4480998.72743055', 'volume_7day': '35204926.85754579', 'buy_price': '93100', 'sell_price': '93450', '24H_fluctate': '4000', '24H_fluctate_rate': '4.46'}, 'LTC': {'opening_price': '35470', 'closing_price': '36810', 'min_price': '35230', 'max_price': '37330', 'average_price': '36409.0898', 'units_traded': '74840.26117116', 'volume_1day': '74840.26117116', 'volume_7day': '178303.86600726', 'buy_price': '36810', 'sell_price': '36880', '24H_fluctate': '1340', '24H_fluctate_rate': '3.77'}, 'ETC': {'opening_price': '5845', 'closing_price': '5980', 'min_price': '5785', 'max_price': '6040', 'average_price': '5947.1712', 'units_traded': '188791.41457705', 'volume_1day': '188791.41457705', 'volume_7day': '1935180.622696646632995491', 'buy_price': '5970', 'sell_price': '5985', '24H_fluctate': '135', '24H_fluctate_rate': '2.30'}, 'XRP': {'opening_price': '403', 'closing_price': '411', 'min_price': '399', 'max_price': '420', 'average_price': '410.2636', 'units_traded': '73432020.61124041', 'volume_1day': '73432020.61124041', 'volume_7day': '507767130.75378431', 'buy_price': '411', 'sell_price': '412', '24H_fluctate': '8', '24H_fluctate_rate': '1.98'}, 'BCH': {'opening_price': '182200', 'closing_price': '189400', 'min_price': '179600', 'max_price': '195900', 'average_price': '186245.9015', 'units_traded': '76889.39826728', 'volume_1day': '76889.39826728', 'volume_7day': '608066.15983953', 'buy_price': '189400', 'sell_price': '189600', '24H_fluctate': '7200', '24H_fluctate_rate': '3.95'}, 'XMR': {'opening_price': '53800', 'closing_price': '57100', 'min_price': '53400', 'max_price': '59600', 'average_price': '57467.0811', 'units_traded': '12330896.37622531', 'volume_1day': '12330896.37622531', 'volume_7day': '55998955.185591468394', 'buy_price': '57100', 'sell_price': '57300', '24H_fluctate': '3300', '24H_fluctate_rate': '6.13'}, 'ZEC': {'opening_price': '65150', 'closing_price': '67150', 'min_price': '64400', 'max_price': '69150', 'average_price': '67003.6415', 'units_traded': '884909.90621206', 'volume_1day': '884909.90621206', 'volume_7day': '42250715.20104041', 'buy_price': '67150', 'sell_price': '67300', '24H_fluctate': '2000', '24H_fluctate_rate': '3.06'}, 'QTUM': {'opening_price': '2491', 'closing_price': '2555', 'min_price': '2434', 'max_price': '2599', 'average_price': '2528.5943', 'units_traded': '347019.0101677', 'volume_1day': '347019.0101677', 'volume_7day': '5290857.87003097', 'buy_price': '2554', 'sell_price': '2557', '24H_fluctate': '64', '24H_fluctate_rate': '2.56'}, 'BTG': {'opening_price': '14600', 'closing_price': '14870', 'min_price': '14300', 'max_price': '15100', 'average_price': '14884.4487', 'units_traded': '20749912.37011512', 'volume_1day': '20749912.37011512', 'volume_7day': '95415441.85863753', 'buy_price': '14840', 'sell_price': '14870', '24H_fluctate': '270', '24H_fluctate_rate': '1.84'}, 'EOS': {'opening_price': '2942', 'closing_price': '3153', 'min_price': '2926', 'max_price': '3204', 'average_price': '3080.2054', 'units_traded': '3656787.15805506', 'volume_1day': '3656787.15805506', 'volume_7day': '24542142.72323746', 'buy_price': '3153', 'sell_price': '3157', '24H_fluctate': '211', '24H_fluctate_rate': '7.17'}, 'ICX': {'opening_price': '271', 'closing_price': '296', 'min_price': '269', 'max_price': '297', 'average_price': '282.8937', 'units_traded': '961619.52196714', 'volume_1day': '961619.52196714', 'volume_7day': '3606346.58633377154449053', 'buy_price': '291', 'sell_price': '296', '24H_fluctate': '25', '24H_fluctate_rate': '9.22'}, 'VET': {'opening_price': '7.24', 'closing_price': '7.25', 'min_price': '7', 'max_price': '7.35', 'average_price': '7.2212', 'units_traded': '8911438.97318259', 'volume_1day': '8911438.97318259', 'volume_7day': '73819379.319210628192044491', 'buy_price': '7.23', 'sell_price': '7.25', '24H_fluctate': '0', '24H_fluctate_rate': '0.13'}, 'TRX': {'opening_price': '21.5', 'closing_price': '22.1', 'min_price': '21.3', 'max_price': '22.5', 'average_price': '21.9413', 'units_traded': '105981298.5382905', 'volume_1day': '105981298.5382905', 'volume_7day': '881158053.97427154', 'buy_price': '22', 'sell_price': '22.2', '24H_fluctate': '0.6', '24H_fluctate_rate': '2.79'}, 'ELF': {'opening_price': '126', 'closing_price': '129', 'min_price': '123', 'max_price': '132', 'average_price': '127.948', 'units_traded': '1979393.81058338', 'volume_1day': '1979393.81058338', 'volume_7day': '16187228.727460584399320283', 'buy_price': '128', 'sell_price': '129', '24H_fluctate': '3', '24H_fluctate_rate': '2.38'}, 'MITH': {'opening_price': '69.2', 'closing_price': '70.9', 'min_price': '68.1', 'max_price': '72.5', 'average_price': '70.4655', 'units_traded': '13531049.90567066', 'volume_1day': '13531049.90567066', 'volume_7day': '114373127.085697367986315871', 'buy_price': '70.9', 'sell_price': '71.2', '24H_fluctate': '1.7', '24H_fluctate_rate': '2.45'}, 'MCO': {'opening_price': '2451', 'closing_price': '2605', 'min_price': '2409', 'max_price': '2700', 'average_price': '2572.2515', 'units_traded': '832754.61565181', 'volume_1day': '832754.61565181', 'volume_7day': '1166667.12782396', 'buy_price': '2604', 'sell_price': '2629', '24H_fluctate': '154', '24H_fluctate_rate': '6.28'}, 'OMG': {'opening_price': '1591', 'closing_price': '1673', 'min_price': '1588', 'max_price': '1705', 'average_price': '1652.2282', 'units_traded': '204363.42542042', 'volume_1day': '204363.42542042', 'volume_7day': '9961417.706576881507231663', 'buy_price': '1660', 'sell_price': '1673', '24H_fluctate': '82', '24H_fluctate_rate': '5.15'}, 'KNC': {'opening_price': '178', 'closing_price': '185', 'min_price': '178', 'max_price': '188', 'average_price': '182.4745', 'units_traded': '1259290.081192', 'volume_1day': '1259290.081192', 'volume_7day': '7460681.335468684118408265', 'buy_price': '184', 'sell_price': '186', '24H_fluctate': '7', '24H_fluctate_rate': '3.93'}, 'GNT': {'opening_price': '75.4', 'closing_price': '77.8', 'min_price': '74.4', 'max_price': '79', 'average_price': '77.2689', 'units_traded': '2591608.62836369', 'volume_1day': '2591608.62836369', 'volume_7day': '37928170.147910589477199817', 'buy_price': '77.1', 'sell_price': '78.2', '24H_fluctate': '2.4', '24H_fluctate_rate': '3.18'}, 'ZIL': {'opening_price': '22.8', 'closing_price': '22.7', 'min_price': '22.1', 'max_price': '23.3', 'average_price': '22.7801', 'units_traded': '33686466.06148878', 'volume_1day': '33686466.06148878', 'volume_7day': '470629944.690266746086', 'buy_price': '22.6', 'sell_price': '22.7', '24H_fluctate': '-0.1', '24H_fluctate_rate': '-0.43'}, 'ETHOS': {'opening_price': '1132', 'closing_price': '1118', 'min_price': '1060', 'max_price': '1156', 'average_price': '1105.8354', 'units_traded': '385766.93914974', 'volume_1day': '385766.93914974', 'volume_7day': '7597583.00754304', 'buy_price': '1103', 'sell_price': '1113', '24H_fluctate': '-14', '24H_fluctate_rate': '-1.23'}, 'PAY': {'opening_price': '1861', 'closing_price': '1801', 'min_price': '1690', 'max_price': '1875', 'average_price': '1797.5157', 'units_traded': '550106.516794', 'volume_1day': '550106.516794', 'volume_7day': '12060561.693926976652719418', 'buy_price': '1801', 'sell_price': '1805', '24H_fluctate': '-60', '24H_fluctate_rate': '-3.22'}, 'WAX': {'opening_price': '109', 'closing_price': '107', 'min_price': '103', 'max_price': '110', 'average_price': '107.2378', 'units_traded': '1356397.09485296', 'volume_1day': '1356397.09485296', 'volume_7day': '21480054.90436097', 'buy_price': '107', 'sell_price': '108', '24H_fluctate': '-2', '24H_fluctate_rate': '-1.83'}, 'POWR': {'opening_price': '560', 'closing_price': '540', 'min_price': '500', 'max_price': '566', 'average_price': '537.5146', 'units_traded': '856719.38230137', 'volume_1day': '856719.38230137', 'volume_7day': '7863513.30590315', 'buy_price': '539', 'sell_price': '540', '24H_fluctate': '-20', '24H_fluctate_rate': '-3.57'}, 'LRC': {'opening_price': '602', 'closing_price': '586', 'min_price': '568', 'max_price': '610', 'average_price': '590.0015', 'units_traded': '346733.33786611', 'volume_1day': '346733.33786611', 'volume_7day': '3891744.235822897867907104', 'buy_price': '585', 'sell_price': '593', '24H_fluctate': '-16', '24H_fluctate_rate': '-2.65'}, 'GTO': {'opening_price': '74.7', 'closing_price': '72.8', 'min_price': '70.5', 'max_price': '74.7', 'average_price': '72.5436', 'units_traded': '2115738.00744819', 'volume_1day': '2115738.00744819', 'volume_7day': '25734991.22607941', 'buy_price': '72.2', 'sell_price': '72.8', '24H_fluctate': '-1.9', '24H_fluctate_rate': '-2.54'}, 'STEEM': {'opening_price': '1855', 'closing_price': '1856', 'min_price': '1800', 'max_price': '1919', 'average_price': '1852.3929', 'units_traded': '121332.59187375', 'volume_1day': '121332.59187375', 'volume_7day': '1681976.1661389', 'buy_price': '1853', 'sell_price': '1856', '24H_fluctate': '1', '24H_fluctate_rate': '0.05'}, 'STRAT': {'opening_price': '2935', 'closing_price': '2830', 'min_price': '2697', 'max_price': '2935', 'average_price': '2836.4631', 'units_traded': '86781.3590979', 'volume_1day': '86781.3590979', 'volume_7day': '716083.33966878', 'buy_price': '2830', 'sell_price': '2866', '24H_fluctate': '-105', '24H_fluctate_rate': '-3.57'}, 'ZRX': {'opening_price': '353', 'closing_price': '365', 'min_price': '353', 'max_price': '367', 'average_price': '360.7015', 'units_traded': '762982.61094643', 'volume_1day': '762982.61094643', 'volume_7day': '7110566.872905206988258056', 'buy_price': '363', 'sell_price': '365', '24H_fluctate': '12', '24H_fluctate_rate': '3.39'}, 'REP': {'opening_price': '98200', 'closing_price': '98450', 'min_price': '95650', 'max_price': '101000', 'average_price': '98062.8192', 'units_traded': '5979.13222481', 'volume_1day': '5979.13222481', 'volume_7day': '98911.754096350512509211', 'buy_price': '98450', 'sell_price': '98800', '24H_fluctate': '250', '24H_fluctate_rate': '0.25'}, 'AE': {'opening_price': '1685', 'closing_price': '1661', 'min_price': '1605', 'max_price': '1720', 'average_price': '1651.8163', 'units_traded': '140943.23516829', 'volume_1day': '140943.23516829', 'volume_7day': '2315907.059975954135804732', 'buy_price': '1650', 'sell_price': '1661', '24H_fluctate': '-24', '24H_fluctate_rate': '-1.42'}, 'XEM': {'opening_price': '72.7', 'closing_price': '74.3', 'min_price': '71.2', 'max_price': '87.8', 'average_price': '76.0435', 'units_traded': '9544729.49144388', 'volume_1day': '9544729.49144388', 'volume_7day': '21146327.07543642', 'buy_price': '73.5', 'sell_price': '74.3', '24H_fluctate': '1.6', '24H_fluctate_rate': '2.20'}, 'SNT': {'opening_price': '117', 'closing_price': '119', 'min_price': '108', 'max_price': '120', 'average_price': '116.1044', 'units_traded': '3056591.10011696', 'volume_1day': '3056591.10011696', 'volume_7day': '25656103.999558420971058256', 'buy_price': '118', 'sell_price': '120', '24H_fluctate': '2', '24H_fluctate_rate': '1.70'}, 'ADA': {'opening_price': '78.2', 'closing_price': '78.7', 'min_price': '75.9', 'max_price': '79.5', 'average_price': '77.8608', 'units_traded': '2772566.44974736', 'volume_1day': '2772566.44974736', 'volume_7day': '40314752.22628218', 'buy_price': '78.7', 'sell_price': '78.8', '24H_fluctate': '0.5', '24H_fluctate_rate': '0.63'}, 'PPT': {'opening_price': '1687', 'closing_price': '1691', 'min_price': '1636', 'max_price': '1707', 'average_price': '1681.524', 'units_traded': '34010.20858692', 'volume_1day': '34010.20858692', 'volume_7day': '757937.94264952', 'buy_price': '1675', 'sell_price': '1691', '24H_fluctate': '4', '24H_fluctate_rate': '0.23'}, 'CTXC': {'opening_price': '114', 'closing_price': '119', 'min_price': '112', 'max_price': '123', 'average_price': '117.8034', 'units_traded': '1756038.40519295', 'volume_1day': '1756038.40519295', 'volume_7day': '12084347.886007975775543446', 'buy_price': '119', 'sell_price': '120', '24H_fluctate': '5', '24H_fluctate_rate': '4.38'}, 'CMT': {'opening_price': '37', 'closing_price': '35.5', 'min_price': '32.4', 'max_price': '38.1', 'average_price': '36.1178', 'units_traded': '13874660.8036317', 'volume_1day': '13874660.8036317', 'volume_7day': '40367997.013210217290073956', 'buy_price': '34.8', 'sell_price': '35.5', '24H_fluctate': '-1.5', '24H_fluctate_rate': '-4.05'}, 'THETA': {'opening_price': '55.5', 'closing_price': '56.9', 'min_price': '52.8', 'max_price': '60', 'average_price': '55.7512', 'units_traded': '13044320.62123796', 'volume_1day': '13044320.62123796', 'volume_7day': '95344565.984609200836930498', 'buy_price': '56.5', 'sell_price': '56.9', '24H_fluctate': '1.4', '24H_fluctate_rate': '2.52'}, 'WTC': {'opening_price': '1260', 'closing_price': '1288', 'min_price': '1220', 'max_price': '1288', 'average_price': '1257.0021', 'units_traded': '105420.8187831', 'volume_1day': '105420.8187831', 'volume_7day': '2353693.386062167178244233', 'buy_price': '1260', 'sell_price': '1287', '24H_fluctate': '28', '24H_fluctate_rate': '2.22'}, 'ITC': {'opening_price': '137', 'closing_price': '140', 'min_price': '133', 'max_price': '142', 'average_price': '137.9381', 'units_traded': '2274484.45291271', 'volume_1day': '2274484.45291271', 'volume_7day': '28832725.991613656085186972', 'buy_price': '140', 'sell_price': '141', '24H_fluctate': '3', '24H_fluctate_rate': '2.18'}, 'TRUE': {'opening_price': '290', 'closing_price': '292', 'min_price': '280', 'max_price': '306', 'average_price': '292.0794', 'units_traded': '490551.92260572', 'volume_1day': '490551.92260572', 'volume_7day': '6719753.626466149412041869', 'buy_price': '292', 'sell_price': '295', '24H_fluctate': '2', '24H_fluctate_rate': '0.68'}, 'ABT': {'opening_price': '101', 'closing_price': '98', 'min_price': '92.8', 'max_price': '128', 'average_price': '108.3637', 'units_traded': '30652375.69770168', 'volume_1day': '30652375.69770168', 'volume_7day': '40948957.118550674076916686', 'buy_price': '98.1', 'sell_price': '99.4', '24H_fluctate': '-3', '24H_fluctate_rate': '-2.97'}, 'RNT': {'opening_price': '99.8', 'closing_price': '142', 'min_price': '96.4', 'max_price': '164', 'average_price': '135.0247', 'units_traded': '69662495.70366341', 'volume_1day': '69662495.70366341', 'volume_7day': '109043185.594629776635042333', 'buy_price': '140', 'sell_price': '142', '24H_fluctate': '42.2', '24H_fluctate_rate': '42.28'}, 'PLY': {'opening_price': '38.4', 'closing_price': '38.6', 'min_price': '36.9', 'max_price': '41.3', 'average_price': '39.0516', 'units_traded': '29585185.81316236', 'volume_1day': '29585185.81316236', 'volume_7day': '105636118.152494582', 'buy_price': '38.4', 'sell_price': '38.6', '24H_fluctate': '0.2', '24H_fluctate_rate': '0.52'}, 'WAVES': {'opening_price': '3503', 'closing_price': '3488', 'min_price': '3384', 'max_price': '3528', 'average_price': '3460.0987', 'units_traded': '1112203.75248897', 'volume_1day': '1112203.75248897', 'volume_7day': '2930661.62847814', 'buy_price': '3471', 'sell_price': '3488', '24H_fluctate': '-15', '24H_fluctate_rate': '-0.42'}, 'LINK': {'opening_price': '334', 'closing_price': '410', 'min_price': '330', 'max_price': '410', 'average_price': '370.3705', 'units_traded': '1735842.33231758', 'volume_1day': '1735842.33231758', 'volume_7day': '5313675.535853735744749308', 'buy_price': '410', 'sell_price': '412', '24H_fluctate': '76', '24H_fluctate_rate': '22.75'}, 'ENJ': {'opening_price': '45.2', 'closing_price': '44.4', 'min_price': '43.7', 'max_price': '45.9', 'average_price': '44.6645', 'units_traded': '3519838.80037866', 'volume_1day': '3519838.80037866', 'volume_7day': '32958375.037501313301196801', 'buy_price': '44.3', 'sell_price': '44.5', '24H_fluctate': '-0.8', '24H_fluctate_rate': '-1.76'}, 'PST': {'opening_price': '108', 'closing_price': '114', 'min_price': '105', 'max_price': '123', 'average_price': '115.1495', 'units_traded': '3514815.19311568', 'volume_1day': '3514815.19311568', 'volume_7day': '10934303.821534906301717168', 'buy_price': '113', 'sell_price': '116', '24H_fluctate': '6', '24H_fluctate_rate': '5.55'}, 'SALT': {'opening_price': '269', 'closing_price': '280', 'min_price': '265', 'max_price': '285', 'average_price': '273.8337', 'units_traded': '1543359.77553363', 'volume_1day': '1543359.77553363', 'volume_7day': '13005473.56271024', 'buy_price': '278', 'sell_price': '280', '24H_fluctate': '11', '24H_fluctate_rate': '4.08'}, 'RDN': {'opening_price': '262', 'closing_price': '317', 'min_price': '260', 'max_price': '350', 'average_price': '318.0803', 'units_traded': '6159271.05233866', 'volume_1day': '6159271.05233866', 'volume_7day': '20698334.171594257359668468', 'buy_price': '317', 'sell_price': '322', '24H_fluctate': '55', '24H_fluctate_rate': '20.99'}, 'LOOM': {'opening_price': '50.6', 'closing_price': '56', 'min_price': '50.2', 'max_price': '60', 'average_price': '55.11', 'units_traded': '10751853.8757713', 'volume_1day': '10751853.8757713', 'volume_7day': '27801937.790782929664295333', 'buy_price': '55.8', 'sell_price': '56.2', '24H_fluctate': '5.4', '24H_fluctate_rate': '10.67'}, 'BHPC': {'opening_price': '915', 'closing_price': '916', 'min_price': '895', 'max_price': '930', 'average_price': '910.293', 'units_traded': '693202.20990982', 'volume_1day': '693202.20990982', 'volume_7day': '9516660.459303000926551395', 'buy_price': '916', 'sell_price': '917', '24H_fluctate': '1', '24H_fluctate_rate': '0.10'}, 'PIVX': {'opening_price': '947', 'closing_price': '967', 'min_price': '929', 'max_price': '990', 'average_price': '961.6915', 'units_traded': '381408.65251671', 'volume_1day': '381408.65251671', 'volume_7day': '10764182.02991736', 'buy_price': '966', 'sell_price': '970', '24H_fluctate': '20', '24H_fluctate_rate': '2.11'}, 'INS': {'opening_price': '309', 'closing_price': '331', 'min_price': '307', 'max_price': '369', 'average_price': '332.6254', 'units_traded': '2624739.72403219', 'volume_1day': '2624739.72403219', 'volume_7day': '10200300.976052938', 'buy_price': '330', 'sell_price': '332', '24H_fluctate': '22', '24H_fluctate_rate': '7.11'}, 'BCD': {'opening_price': '1011', 'closing_price': '1031', 'min_price': '1002', 'max_price': '1040', 'average_price': '1022.1052', 'units_traded': '220964.55942678', 'volume_1day': '220964.55942678', 'volume_7day': '2456940.37145726', 'buy_price': '1031', 'sell_price': '1039', '24H_fluctate': '20', '24H_fluctate_rate': '1.97'}, 'BZNT': {'opening_price': '26', 'closing_price': '27.7', 'min_price': '25.4', 'max_price': '31.9', 'average_price': '29.1982', 'units_traded': '92380956.34156558', 'volume_1day': '92380956.34156558', 'volume_7day': '164549501.141419928969348457', 'buy_price': '27.6', 'sell_price': '27.7', '24H_fluctate': '1.7', '24H_fluctate_rate': '6.53'}, 'XLM': {'opening_price': '127', 'closing_price': '130', 'min_price': '126', 'max_price': '133', 'average_price': '129.3241', 'units_traded': '7129384.09430881', 'volume_1day': '7129384.09430881', 'volume_7day': '52914015.04164383', 'buy_price': '130', 'sell_price': '131', '24H_fluctate': '3', '24H_fluctate_rate': '2.36'}, 'OCN': {'opening_price': '4.04', 'closing_price': '3.95', 'min_price': '3.87', 'max_price': '4.1', 'average_price': '3.9677', 'units_traded': '84318354.78437224', 'volume_1day': '84318354.78437224', 'volume_7day': '1977647789.894372945025734319', 'buy_price': '3.95', 'sell_price': '3.97', '24H_fluctate': '-0.09', '24H_fluctate_rate': '-2.22'}, 'BSV': {'opening_price': '102300', 'closing_price': '102800', 'min_price': '100000', 'max_price': '106900', 'average_price': '102790.7344', 'units_traded': '39569.0775622', 'volume_1day': '39569.0775622', 'volume_7day': '291308.55853433', 'buy_price': '102800', 'sell_price': '103000', '24H_fluctate': '500', '24H_fluctate_rate': '0.48'}, 'TMTG': {'opening_price': '8.44', 'closing_price': '8.37', 'min_price': '8.3', 'max_price': '8.5', 'average_price': '8.3876', 'units_traded': '204750239.3634009', 'volume_1day': '204750239.3634009', 'volume_7day': '1406391084.464860708761798155', 'buy_price': '8.36', 'sell_price': '8.38', '24H_fluctate': '-0.07', '24H_fluctate_rate': '-0.82'}, 'BAT': {'opening_price': '147', 'closing_price': '150', 'min_price': '145', 'max_price': '154', 'average_price': '148.6047', 'units_traded': '1270581.85854217', 'volume_1day': '1270581.85854217', 'volume_7day': '6960950.455953801887004186', 'buy_price': '149', 'sell_price': '150', '24H_fluctate': '3', '24H_fluctate_rate': '2.04'}, 'WET': {'opening_price': '13.8', 'closing_price': '14.2', 'min_price': '13.6', 'max_price': '14.6', 'average_price': '14.1065', 'units_traded': '32771039.44941031', 'volume_1day': '32771039.44941031', 'volume_7day': '218574864.583468161936344749', 'buy_price': '14.1', 'sell_price': '14.2', '24H_fluctate': '0.4', '24H_fluctate_rate': '2.89'}, 'XVG': {'opening_price': '7.9', 'closing_price': '7.98', 'min_price': '7.78', 'max_price': '8.09', 'average_price': '7.9182', 'units_traded': '6697863.49635046', 'volume_1day': '6697863.49635046', 'volume_7day': '52519193.39282393', 'buy_price': '7.97', 'sell_price': '8.03', '24H_fluctate': '0.08', '24H_fluctate_rate': '1.01'}, 'IOST': {'opening_price': '6.12', 'closing_price': '6.39', 'min_price': '6.05', 'max_price': '6.63', 'average_price': '6.3847', 'units_traded': '470601722.8489453', 'volume_1day': '470601722.8489453', 'volume_7day': '1076754034.776160944748355167', 'buy_price': '6.38', 'sell_price': '6.46', '24H_fluctate': '0.27', '24H_fluctate_rate': '4.41'}, 'POLY': {'opening_price': '157', 'closing_price': '160', 'min_price': '155', 'max_price': '165', 'average_price': '159.9794', 'units_traded': '1076750.73319356', 'volume_1day': '1076750.73319356', 'volume_7day': '13773964.933769457706647263', 'buy_price': '159', 'sell_price': '160', '24H_fluctate': '3', '24H_fluctate_rate': '1.91'}, 'HC': {'opening_price': '1456', 'closing_price': '1438', 'min_price': '1390', 'max_price': '1456', 'average_price': '1420.521', 'units_traded': '67939.00892437', 'volume_1day': '67939.00892437', 'volume_7day': '1087596.15043894', 'buy_price': '1422', 'sell_price': '1438', '24H_fluctate': '-18', '24H_fluctate_rate': '-1.23'}, 'MEETONE': [], 'ADD': [], 'HORUS': [], 'CHL': [], 'EOSDAC': [], 'BLACK': [], 'ROM': {'opening_price': '0.14', 'closing_price': '0.13', 'min_price': '0.12', 'max_price': '0.14', 'average_price': '0.1277', 'units_traded': '20419734914.10559066', 'volume_1day': '20419734914.10559066', 'volume_7day': '175471047323.505789352610853533', 'buy_price': '0.12', 'sell_price': '0.13', '24H_fluctate': '-0.01', '24H_fluctate_rate': '-7.14'}, 'AMO': {'opening_price': '2', 'closing_price': '1.75', 'min_price': '1.66', 'max_price': '2.8', 'average_price': '1.7937', 'units_traded': '23565468263.75411338', 'volume_1day': '23565468263.75411338', 'volume_7day': '23533172655.732662731974223627', 'buy_price': '1.74', 'sell_price': '1.75', '24H_fluctate': '-0.25', '24H_fluctate_rate': '-12.50'}, 'date': '1546490393375'}\n"
     ]
    }
   ],
   "source": [
    "currency = requests.get('https://api.bithumb.com/public/ticker/all').json()['data']\n",
    "print(currency)"
   ]
  },
  {
   "cell_type": "code",
   "execution_count": 26,
   "metadata": {
    "scrolled": true
   },
   "outputs": [
    {
     "name": "stdout",
     "output_type": "stream",
     "text": [
      "BTC 상승장\n",
      "ETH 상승장\n",
      "DASH 상승장\n",
      "LTC 상승장\n",
      "ETC 상승장\n",
      "XRP 상승장\n",
      "BCH 상승장\n",
      "XMR 상승장\n",
      "ZEC 상승장\n",
      "QTUM 상승장\n",
      "BTG 상승장\n",
      "EOS 상승장\n",
      "ICX 상승장\n",
      "VET 상승장\n",
      "TRX 상승장\n",
      "ELF 상승장\n",
      "MITH 상승장\n",
      "MCO 상승장\n",
      "OMG 상승장\n",
      "KNC 하락장\n",
      "GNT 상승장\n",
      "ZIL 상승장\n",
      "ETHOS 상승장\n",
      "PAY 상승장\n",
      "WAX 상승장\n",
      "POWR 상승장\n",
      "LRC 상승장\n",
      "GTO 상승장\n",
      "STEEM 상승장\n",
      "STRAT 상승장\n",
      "ZRX 하락장\n",
      "REP 상승장\n",
      "AE 상승장\n",
      "XEM 상승장\n",
      "SNT 상승장\n",
      "ADA 상승장\n",
      "PPT 상승장\n",
      "CTXC 상승장\n",
      "CMT 상승장\n",
      "THETA 상승장\n",
      "WTC 상승장\n",
      "ITC 상승장\n",
      "TRUE 상승장\n",
      "ABT 상승장\n",
      "RNT 상승장\n",
      "PLY 상승장\n",
      "WAVES 상승장\n",
      "LINK 상승장\n",
      "ENJ 상승장\n",
      "PST 상승장\n",
      "SALT 상승장\n",
      "RDN 상승장\n",
      "LOOM 상승장\n",
      "BHPC 상승장\n",
      "PIVX 상승장\n",
      "INS 상승장\n",
      "BCD 상승장\n",
      "BZNT 상승장\n",
      "XLM 상승장\n",
      "OCN 상승장\n",
      "BSV 상승장\n",
      "TMTG 상승장\n",
      "BAT 상승장\n",
      "WET 상승장\n",
      "XVG 상승장\n",
      "IOST 상승장\n",
      "POLY 상승장\n",
      "HC 상승장\n",
      "ROM 상승장\n",
      "AMO 상승장\n"
     ]
    }
   ],
   "source": [
    "# 아래에 코드를 작성하세요.\n",
    "for coin in currency.keys():\n",
    "    if currency[coin] == []:\n",
    "        continue\n",
    "    elif coin == 'date':\n",
    "        continue\n",
    "    else:\n",
    "        o_pri = float(currency[coin]['opening_price'])\n",
    "        c_pri = float(currency[coin]['closing_price'])\n",
    "        min_pri = float(currency[coin]['min_price'])\n",
    "        max_pri = float(currency[coin]['max_price'])\n",
    "        change = max_pri - min_pri\n",
    "        if max_pri < change + o_pri:\n",
    "            print(f'{coin} 상승장')\n",
    "        else:\n",
    "            print(f'{coin} 하락장')"
   ]
  }
 ],
 "metadata": {
  "kernelspec": {
   "display_name": "Python 3",
   "language": "python",
   "name": "python3"
  },
  "language_info": {
   "codemirror_mode": {
    "name": "ipython",
    "version": 3
   },
   "file_extension": ".py",
   "mimetype": "text/x-python",
   "name": "python",
   "nbconvert_exporter": "python",
   "pygments_lexer": "ipython3",
   "version": "3.7.1"
  },
  "toc": {
   "base_numbering": 1,
   "nav_menu": {},
   "number_sections": true,
   "sideBar": true,
   "skip_h1_title": false,
   "title_cell": "Table of Contents",
   "title_sidebar": "Contents",
   "toc_cell": false,
   "toc_position": {},
   "toc_section_display": true,
   "toc_window_display": false
  }
 },
 "nbformat": 4,
 "nbformat_minor": 2
}
